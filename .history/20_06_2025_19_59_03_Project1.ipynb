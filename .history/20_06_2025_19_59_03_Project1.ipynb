{
 "cells": [
  {
   "cell_type": "markdown",
   "id": "952dc7c1-599d-4631-8f94-8c3bc799a51a",
   "metadata": {},
   "source": [
    "# Project\n",
    "## Link to GitHub repistory\n",
    "https://github.com/Wen-Zhenyi/dsci-100-2025s1.git\n",
    "\n",
    "## Question 1\n",
    "In the merged dataset, can the average duration of each login session and the number of logins be used to predict whether the user has subscribed to the electronic newsletter?\n",
    "\n"
   ]
  },
  {
   "attachments": {},
   "cell_type": "markdown",
   "id": "0ba8c05c-bc1c-4a4a-a497-11dcf82d2fe9",
   "metadata": {},
   "source": [
    "## 1. Introduction\n",
    "### Background\n",
    "The Computer Science research group at the University of British Columbia is running a Minecraft server to study how people play video games. They collect data about players and their actions in the game. One challenge they face is figuring out how to manage their resources, like server space and licenses, and how to reach out to players who are more likely to stay engaged.\n",
    "\n",
    "One way they measure engagement is by checking whether a player subscribed to a game-related newsletter. Subscribing shows that the player is interested and wants to stay connected. If we can predict which players are likely to subscribe based on how they play the game, it can help the team focus their recruiting and resources better.\n",
    "\n",
    "### Question\n",
    "*In the merged dataset, can the average duration of each login session and the number of logins be used to predict whether the user has subscribed to the electronic newsletter?*\n",
    "\n",
    "In this project, I aim to investigate the average duration of each game session and the number of game sessions that players participated in, to see if these can help us predict whether the players have subscribed to this electronic newsletter. I will combine the information from the two datasets to explore and answer this question.\n",
    "\n",
    "\n",
    "### Data Description\n",
    "I will use  the two datasets to explore the relationship between player behavior and newsletter subscription.\n",
    "### players.csv\n",
    "This file contains information about each player. Below is a summary of the main variables:\n",
    "\n",
    "| Column Name     | Description                                | Type     |\n",
    "|------------------|--------------------------------------------|----------|\n",
    "| `hashedEmail`    | Unique ID for each player                  | string   |\n",
    "| `subscribe`      | Whether the player subscribed to the newsletter (True or False) | boolean  |\n",
    "| `experience`     | Player experience level (e.g., Pro, Amateur) | string   |\n",
    "| `gender`         | Player's gender                            | string   |\n",
    "| `Age`            | Player's age                               | number   |\n",
    "| `played_hours`   | Total hours the player spent in the game   | number   |\n",
    "| `name`           | Player’s in-game name (not used here)      | string   |\n",
    "\n",
    "(There are 196 players in total.)\n",
    "\n",
    "---\n",
    "\n",
    "### sessions.csv\n",
    "This file contains a log of each time a player joined and left the Minecraft server. Below is a summary of the main columns:\n",
    "| Column Name         | Description                                 | Type     |\n",
    "|---------------------|---------------------------------------------|----------|\n",
    "| `hashedEmail`        | Unique ID to match with `players.csv`       | string   |\n",
    "| `original_start_time`| Start time of the session (Unix timestamp) | number   |\n",
    "| `original_end_time`  | End time of the session (Unix timestamp)   | number   |\n",
    "\n",
    "\n",
    "There are a total of 1535 conversation records. Some of these conversations lack the end time, so they will be deleted.\n",
    "\n",
    "---\n",
    "\n",
    "### Data Cleaning and Transformation\n",
    "\n",
    "To analyze player behavior, we calculate:\n",
    "- **Average session duration**: For each player, we compute the average length of their sessions.\n",
    "- **Session count**: The number of sessions each player has.\n",
    "\n",
    "These two variables are then combined with the `players.csv` dataset using the `hashedEmail` as the key. We also remove any players who do not have session data.\n",
    "\n",
    "---\n",
    "\n",
    "### Potential Issues\n",
    "- Some players have no session records and are excluded from the analysis.\n",
    "- Some session times are missing or incorrect (e.g., end time earlier than start time), and are removed.\n",
    "- The data only includes a small number of players who both have session data and are subscribed, which may limit model performance.\n",
    "\n",
    "\n",
    "\n"
   ]
  },
  {
   "cell_type": "markdown",
   "id": "934a030e-ce63-4553-8dce-214d5f2d9a01",
   "metadata": {},
   "source": [
    "### Methods and Results\n",
    "Before starting the analysis, we cleaned and transformed the data:\n",
    "\n",
    "1. **Removed incomplete session records**: We dropped any session that was missing a start or end time.\n",
    "2. **Calculated session duration**: For each session, we subtracted the start time from the end time to get how long the session lasted (in milliseconds).\n",
    "3. **Filtered out invalid sessions**: We removed any sessions with negative or extremely long durations (more than 2 hours).\n",
    "4. **Grouped sessions by player**: For each player, we calculated:\n",
    "   - The **average session duration**\n",
    "   - The **total number of sessions** (session count)\n",
    "5. **Merged with player info**: We combined this summary with the `players.csv` file using `hashedEmail`, keeping only those players who had session data and a known subscription status.\n",
    "\n",
    "The methods used to perform the analysis includes:\n",
    "1.  te session duration\n",
    "3. Filter out invalid sessions\n",
    "4. \n"
   ]
  },
  {
   "cell_type": "code",
   "execution_count": null,
   "id": "22283fff-bf04-46f4-ac8d-da1815198a83",
   "metadata": {},
   "outputs": [],
   "source": [
    "library(ti)"
   ]
  },
  {
   "cell_type": "markdown",
   "id": "344835d0-2bbf-4004-8e61-5198ed5ad497",
   "metadata": {},
   "source": [
    "### Discussion"
   ]
  },
  {
   "cell_type": "markdown",
   "id": "185e9a9a-1044-48ef-a561-756b1a08cacb",
   "metadata": {},
   "source": [
    "### References"
   ]
  }
 ],
 "metadata": {
  "kernelspec": {
   "display_name": "R",
   "language": "R",
   "name": "ir"
  },
  "language_info": {
   "codemirror_mode": "r",
   "file_extension": ".r",
   "mimetype": "text/x-r-source",
   "name": "R",
   "pygments_lexer": "r",
   "version": "4.3.3"
  }
 },
 "nbformat": 4,
 "nbformat_minor": 5
}
