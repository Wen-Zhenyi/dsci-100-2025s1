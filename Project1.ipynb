{
 "cells": [
  {
   "cell_type": "markdown",
   "id": "952dc7c1-599d-4631-8f94-8c3bc799a51a",
   "metadata": {},
   "source": [
    "# Project\n",
    "## Link to GitHub repistory\n",
    "https://github.com/Wen-Zhenyi/dsci-100-2025s1.git\n",
    "\n",
    "## Question 1\n",
    "What player characteristics and behaviours are most predictive of subscribing to a game-related newsletter, and how do these features differ between various player types?\n"
   ]
  },
  {
   "attachments": {},
   "cell_type": "markdown",
   "id": "0ba8c05c-bc1c-4a4a-a497-11dcf82d2fe9",
   "metadata": {},
   "source": [
    "## 1. Introduction\n",
    "### Background\n",
    "The Computer Science research group at the University of British Columbia is running a Minecraft server to study how people play video games. They collect data about players and their actions in the game. One challenge they face is figuring out how to manage their resources, like server space and licenses, and how to reach out to players who are more likely to stay engaged.\n",
    "\n",
    "One way they measure engagement is by checking whether a player subscribed to a game-related newsletter. Subscribing shows that the player is interested in the game. If we can predict which players are likely to subscribe based on how they play the game, it can help the team use their resources more efficiently.\n",
    "\n",
    "---\n",
    "\n",
    "### Question\n",
    "*Can the total played hours predict whether a player has subscribed to this electronic newsletter in the Minecraft server dataset?*\n",
    "\n",
    "In this project, I aim to investigate the average duration of each game session that players participated in, to see if these can help us predict whether the players have subscribed to this electronic newsletter. I will use the two variables in the dataset to answer this question.\n",
    "\n",
    "---\n",
    "### Data Description\n",
    "I will use `played_hours` to predict the likelihood that a player subscribed to the newsletter.\n",
    "- **Number of observations**: 196 players\n",
    "- **Number of variables**: 7 columns\n",
    "- **Key variables used in this project**:\n",
    "  \n",
    "| Column Name     | Description                                | Type     |\n",
    "|------------------|--------------------------------------------|----------|\n",
    "| `played_hours`   | Total hours the player spent in the game   | Numetric   |\n",
    "| `subscribe`  | Whether the player subscribed to the newsletter (True or False) | Logical  |\n",
    "\n",
    "- **Issues in the data**:\n",
    "\n",
    "1.There are 2 missing values in `Age` and some missing or undefined values in `subscribe`.\n",
    "2.The data only includes a small number of players who both have session data and are subscribed, which may limit model performance.\n",
    "  \n",
    "- **Variable summary**:\n",
    "| Column Name     | Description                                | Type     |\n",
    "|------------------|--------------------------------------------|----------|\n",
    "| `hashedEmail`    | Unique ID for each player                  | Categorical   |\n",
    "| `subscribe`      | Whether the player subscribed to the newsletter (True or False) | Logical  |\n",
    "| `experience`     | Player experience level (e.g., Pro, Amateur) | Categorical   |\n",
    "| `gender`         | Player's gender                            | Categorical   |\n",
    "| `Age`            | Player's age                               | Numeric  |\n",
    "| `played_hours`   | Total hours the player spent in the game   | Numetric   |\n",
    "| `name`           | Player’s in-game name (not used here)      | Categorical   |\n",
    "| `hashedEmail`        | Unique ID to match with `players.csv`       | Categorical   |\n",
    "| `original_start_time`| Start time of the session (Unix timestamp) | Numeric   |\n",
    "| `original_end_time`  | End time of the session (Unix timestamp)   | Numeric   |\n"
   ]
  },
  {
   "cell_type": "markdown",
   "id": "934a030e-ce63-4553-8dce-214d5f2d9a01",
   "metadata": {},
   "source": [
    "## 2. Methods and Results\n",
    "\n"
   ]
  },
  {
   "cell_type": "code",
   "execution_count": 15,
   "id": "2ed32e34-6bfd-4132-992c-d0649d12fd4d",
   "metadata": {},
   "outputs": [
    {
     "name": "stderr",
     "output_type": "stream",
     "text": [
      "\u001b[1mRows: \u001b[22m\u001b[34m196\u001b[39m \u001b[1mColumns: \u001b[22m\u001b[34m7\u001b[39m\n",
      "\u001b[36m──\u001b[39m \u001b[1mColumn specification\u001b[22m \u001b[36m────────────────────────────────────────────────────────\u001b[39m\n",
      "\u001b[1mDelimiter:\u001b[22m \",\"\n",
      "\u001b[31mchr\u001b[39m (4): experience, hashedEmail, name, gender\n",
      "\u001b[32mdbl\u001b[39m (2): played_hours, Age\n",
      "\u001b[33mlgl\u001b[39m (1): subscribe\n",
      "\n",
      "\u001b[36mℹ\u001b[39m Use `spec()` to retrieve the full column specification for this data.\n",
      "\u001b[36mℹ\u001b[39m Specify the column types or set `show_col_types = FALSE` to quiet this message.\n"
     ]
    },
    {
     "data": {
      "text/html": [
       "<table class=\"dataframe\">\n",
       "<caption>A tibble: 6 × 7</caption>\n",
       "<thead>\n",
       "\t<tr><th scope=col>experience</th><th scope=col>subscribe</th><th scope=col>hashedEmail</th><th scope=col>played_hours</th><th scope=col>name</th><th scope=col>gender</th><th scope=col>Age</th></tr>\n",
       "\t<tr><th scope=col>&lt;chr&gt;</th><th scope=col>&lt;lgl&gt;</th><th scope=col>&lt;chr&gt;</th><th scope=col>&lt;dbl&gt;</th><th scope=col>&lt;chr&gt;</th><th scope=col>&lt;chr&gt;</th><th scope=col>&lt;dbl&gt;</th></tr>\n",
       "</thead>\n",
       "<tbody>\n",
       "\t<tr><td>Pro    </td><td> TRUE</td><td>f6daba428a5e19a3d47574858c13550499be23603422e6a0ee9728f8b53e192d</td><td>30.3</td><td>Morgan   </td><td>Male  </td><td> 9</td></tr>\n",
       "\t<tr><td>Veteran</td><td> TRUE</td><td>f3c813577c458ba0dfef80996f8f32c93b6e8af1fa939732842f2312358a88e9</td><td> 3.8</td><td>Christian</td><td>Male  </td><td>17</td></tr>\n",
       "\t<tr><td>Veteran</td><td>FALSE</td><td>b674dd7ee0d24096d1c019615ce4d12b20fcbff12d79d3c5a9d2118eb7ccbb28</td><td> 0.0</td><td>Blake    </td><td>Male  </td><td>17</td></tr>\n",
       "\t<tr><td>Amateur</td><td> TRUE</td><td>23fe711e0e3b77f1da7aa221ab1192afe21648d47d2b4fa7a5a659ff443a0eb5</td><td> 0.7</td><td>Flora    </td><td>Female</td><td>21</td></tr>\n",
       "\t<tr><td>Regular</td><td> TRUE</td><td>7dc01f10bf20671ecfccdac23812b1b415acd42c2147cb0af4d48fcce2420f3e</td><td> 0.1</td><td>Kylie    </td><td>Male  </td><td>21</td></tr>\n",
       "\t<tr><td>Amateur</td><td> TRUE</td><td>f58aad5996a435f16b0284a3b267f973f9af99e7a89bee0430055a44fa92f977</td><td> 0.0</td><td>Adrian   </td><td>Female</td><td>17</td></tr>\n",
       "</tbody>\n",
       "</table>\n"
      ],
      "text/latex": [
       "A tibble: 6 × 7\n",
       "\\begin{tabular}{lllllll}\n",
       " experience & subscribe & hashedEmail & played\\_hours & name & gender & Age\\\\\n",
       " <chr> & <lgl> & <chr> & <dbl> & <chr> & <chr> & <dbl>\\\\\n",
       "\\hline\n",
       "\t Pro     &  TRUE & f6daba428a5e19a3d47574858c13550499be23603422e6a0ee9728f8b53e192d & 30.3 & Morgan    & Male   &  9\\\\\n",
       "\t Veteran &  TRUE & f3c813577c458ba0dfef80996f8f32c93b6e8af1fa939732842f2312358a88e9 &  3.8 & Christian & Male   & 17\\\\\n",
       "\t Veteran & FALSE & b674dd7ee0d24096d1c019615ce4d12b20fcbff12d79d3c5a9d2118eb7ccbb28 &  0.0 & Blake     & Male   & 17\\\\\n",
       "\t Amateur &  TRUE & 23fe711e0e3b77f1da7aa221ab1192afe21648d47d2b4fa7a5a659ff443a0eb5 &  0.7 & Flora     & Female & 21\\\\\n",
       "\t Regular &  TRUE & 7dc01f10bf20671ecfccdac23812b1b415acd42c2147cb0af4d48fcce2420f3e &  0.1 & Kylie     & Male   & 21\\\\\n",
       "\t Amateur &  TRUE & f58aad5996a435f16b0284a3b267f973f9af99e7a89bee0430055a44fa92f977 &  0.0 & Adrian    & Female & 17\\\\\n",
       "\\end{tabular}\n"
      ],
      "text/markdown": [
       "\n",
       "A tibble: 6 × 7\n",
       "\n",
       "| experience &lt;chr&gt; | subscribe &lt;lgl&gt; | hashedEmail &lt;chr&gt; | played_hours &lt;dbl&gt; | name &lt;chr&gt; | gender &lt;chr&gt; | Age &lt;dbl&gt; |\n",
       "|---|---|---|---|---|---|---|\n",
       "| Pro     |  TRUE | f6daba428a5e19a3d47574858c13550499be23603422e6a0ee9728f8b53e192d | 30.3 | Morgan    | Male   |  9 |\n",
       "| Veteran |  TRUE | f3c813577c458ba0dfef80996f8f32c93b6e8af1fa939732842f2312358a88e9 |  3.8 | Christian | Male   | 17 |\n",
       "| Veteran | FALSE | b674dd7ee0d24096d1c019615ce4d12b20fcbff12d79d3c5a9d2118eb7ccbb28 |  0.0 | Blake     | Male   | 17 |\n",
       "| Amateur |  TRUE | 23fe711e0e3b77f1da7aa221ab1192afe21648d47d2b4fa7a5a659ff443a0eb5 |  0.7 | Flora     | Female | 21 |\n",
       "| Regular |  TRUE | 7dc01f10bf20671ecfccdac23812b1b415acd42c2147cb0af4d48fcce2420f3e |  0.1 | Kylie     | Male   | 21 |\n",
       "| Amateur |  TRUE | f58aad5996a435f16b0284a3b267f973f9af99e7a89bee0430055a44fa92f977 |  0.0 | Adrian    | Female | 17 |\n",
       "\n"
      ],
      "text/plain": [
       "  experience subscribe\n",
       "1 Pro         TRUE    \n",
       "2 Veteran     TRUE    \n",
       "3 Veteran    FALSE    \n",
       "4 Amateur     TRUE    \n",
       "5 Regular     TRUE    \n",
       "6 Amateur     TRUE    \n",
       "  hashedEmail                                                      played_hours\n",
       "1 f6daba428a5e19a3d47574858c13550499be23603422e6a0ee9728f8b53e192d 30.3        \n",
       "2 f3c813577c458ba0dfef80996f8f32c93b6e8af1fa939732842f2312358a88e9  3.8        \n",
       "3 b674dd7ee0d24096d1c019615ce4d12b20fcbff12d79d3c5a9d2118eb7ccbb28  0.0        \n",
       "4 23fe711e0e3b77f1da7aa221ab1192afe21648d47d2b4fa7a5a659ff443a0eb5  0.7        \n",
       "5 7dc01f10bf20671ecfccdac23812b1b415acd42c2147cb0af4d48fcce2420f3e  0.1        \n",
       "6 f58aad5996a435f16b0284a3b267f973f9af99e7a89bee0430055a44fa92f977  0.0        \n",
       "  name      gender Age\n",
       "1 Morgan    Male    9 \n",
       "2 Christian Male   17 \n",
       "3 Blake     Male   17 \n",
       "4 Flora     Female 21 \n",
       "5 Kylie     Male   21 \n",
       "6 Adrian    Female 17 "
      ]
     },
     "metadata": {},
     "output_type": "display_data"
    },
    {
     "data": {
      "text/html": [
       "<table class=\"dataframe\">\n",
       "<caption>A tibble: 6 × 5</caption>\n",
       "<thead>\n",
       "\t<tr><th scope=col>experience</th><th scope=col>subscribe</th><th scope=col>played_hours</th><th scope=col>gender</th><th scope=col>Age</th></tr>\n",
       "\t<tr><th scope=col>&lt;chr&gt;</th><th scope=col>&lt;lgl&gt;</th><th scope=col>&lt;dbl&gt;</th><th scope=col>&lt;chr&gt;</th><th scope=col>&lt;dbl&gt;</th></tr>\n",
       "</thead>\n",
       "<tbody>\n",
       "\t<tr><td>Pro    </td><td> TRUE</td><td>30.3</td><td>Male  </td><td> 9</td></tr>\n",
       "\t<tr><td>Veteran</td><td> TRUE</td><td> 3.8</td><td>Male  </td><td>17</td></tr>\n",
       "\t<tr><td>Veteran</td><td>FALSE</td><td> 0.0</td><td>Male  </td><td>17</td></tr>\n",
       "\t<tr><td>Amateur</td><td> TRUE</td><td> 0.7</td><td>Female</td><td>21</td></tr>\n",
       "\t<tr><td>Regular</td><td> TRUE</td><td> 0.1</td><td>Male  </td><td>21</td></tr>\n",
       "\t<tr><td>Amateur</td><td> TRUE</td><td> 0.0</td><td>Female</td><td>17</td></tr>\n",
       "</tbody>\n",
       "</table>\n"
      ],
      "text/latex": [
       "A tibble: 6 × 5\n",
       "\\begin{tabular}{lllll}\n",
       " experience & subscribe & played\\_hours & gender & Age\\\\\n",
       " <chr> & <lgl> & <dbl> & <chr> & <dbl>\\\\\n",
       "\\hline\n",
       "\t Pro     &  TRUE & 30.3 & Male   &  9\\\\\n",
       "\t Veteran &  TRUE &  3.8 & Male   & 17\\\\\n",
       "\t Veteran & FALSE &  0.0 & Male   & 17\\\\\n",
       "\t Amateur &  TRUE &  0.7 & Female & 21\\\\\n",
       "\t Regular &  TRUE &  0.1 & Male   & 21\\\\\n",
       "\t Amateur &  TRUE &  0.0 & Female & 17\\\\\n",
       "\\end{tabular}\n"
      ],
      "text/markdown": [
       "\n",
       "A tibble: 6 × 5\n",
       "\n",
       "| experience &lt;chr&gt; | subscribe &lt;lgl&gt; | played_hours &lt;dbl&gt; | gender &lt;chr&gt; | Age &lt;dbl&gt; |\n",
       "|---|---|---|---|---|\n",
       "| Pro     |  TRUE | 30.3 | Male   |  9 |\n",
       "| Veteran |  TRUE |  3.8 | Male   | 17 |\n",
       "| Veteran | FALSE |  0.0 | Male   | 17 |\n",
       "| Amateur |  TRUE |  0.7 | Female | 21 |\n",
       "| Regular |  TRUE |  0.1 | Male   | 21 |\n",
       "| Amateur |  TRUE |  0.0 | Female | 17 |\n",
       "\n"
      ],
      "text/plain": [
       "  experience subscribe played_hours gender Age\n",
       "1 Pro         TRUE     30.3         Male    9 \n",
       "2 Veteran     TRUE      3.8         Male   17 \n",
       "3 Veteran    FALSE      0.0         Male   17 \n",
       "4 Amateur     TRUE      0.7         Female 21 \n",
       "5 Regular     TRUE      0.1         Male   21 \n",
       "6 Amateur     TRUE      0.0         Female 17 "
      ]
     },
     "metadata": {},
     "output_type": "display_data"
    }
   ],
   "source": [
    "data loading\n",
    "library(tidyverse)\n",
    "\n",
    "\n",
    "player <- read_csv(\"players.csv\")\n",
    "head(player)\n",
    "\n",
    "clean_player <- select(player, -hashedEmail, -name)\n",
    "head(clean_player)"
   ]
  },
  {
   "cell_type": "markdown",
   "id": "7e11375d-1eee-4862-800b-1b781ec4b80d",
   "metadata": {},
   "source": [
    "In this procss, I cleaned the table by deleting the column named \"hashed Email\"and \"name\"."
   ]
  },
  {
   "cell_type": "markdown",
   "id": "344835d0-2bbf-4004-8e61-5198ed5ad497",
   "metadata": {},
   "source": [
    "### Discussion"
   ]
  },
  {
   "cell_type": "markdown",
   "id": "185e9a9a-1044-48ef-a561-756b1a08cacb",
   "metadata": {},
   "source": [
    "### References"
   ]
  }
 ],
 "metadata": {
  "kernelspec": {
   "display_name": "R",
   "language": "R",
   "name": "ir"
  },
  "language_info": {
   "codemirror_mode": "r",
   "file_extension": ".r",
   "mimetype": "text/x-r-source",
   "name": "R",
   "pygments_lexer": "r",
   "version": "4.3.3"
  }
 },
 "nbformat": 4,
 "nbformat_minor": 5
}
